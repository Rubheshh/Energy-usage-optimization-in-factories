{
 "cells": [
  {
   "cell_type": "code",
   "execution_count": 3,
   "id": "21e08c6a",
   "metadata": {},
   "outputs": [
    {
     "name": "stdout",
     "output_type": "stream",
     "text": [
      "Model Performance:\n",
      "Mean Squared Error: 0.0\n",
      "R-squared: nan\n",
      "\n",
      "Model Coefficients:\n",
      "FactorySize: 0.3998336691936154\n",
      "Machines: 0.007996673383872305\n",
      "Hours: 0.0015993346767744613\n",
      "Intercept: -0.24629754022316774\n",
      "\n",
      "Predicted Energy Usage for New Factory Data:\n",
      "[480.00831654]\n"
     ]
    },
    {
     "name": "stderr",
     "output_type": "stream",
     "text": [
      "C:\\Users\\HP\\anaconda3\\lib\\site-packages\\sklearn\\metrics\\_regression.py:796: UndefinedMetricWarning: R^2 score is not well-defined with less than two samples.\n",
      "  warnings.warn(msg, UndefinedMetricWarning)\n"
     ]
    }
   ],
   "source": [
    "import numpy as np\n",
    "from sklearn.model_selection import train_test_split\n",
    "from sklearn.linear_model import LinearRegression\n",
    "from sklearn.metrics import mean_squared_error, r2_score\n",
    "\n",
    "\n",
    "data = {\n",
    "    'FactorySize': [1000, 1500, 2000, 2500, 3000],\n",
    "    'Machines': [50, 60, 70, 80, 90],\n",
    "    'Hours': [8, 10, 12, 14, 16],\n",
    "    'EnergyConsumption': [400, 600, 800, 1000, 1200]\n",
    "}\n",
    "\n",
    "X = np.array([\n",
    "    data['FactorySize'],\n",
    "    data['Machines'],\n",
    "    data['Hours']\n",
    "]).T\n",
    "\n",
    "y = np.array(data['EnergyConsumption'])  # Target variable\n",
    "# Split the data into training and testing sets\n",
    "X_train, X_test, y_train, y_test = train_test_split(X, y, test_size=0.2, random_state=42)\n",
    "\n",
    "# Initialize and train the linear regression model\n",
    "model = LinearRegression()\n",
    "model.fit(X_train, y_train)\n",
    "\n",
    "# Make predictions on the test set\n",
    "y_pred = model.predict(X_test)\n",
    "\n",
    "# Evaluate the model\n",
    "mse = mean_squared_error(y_test, y_pred)\n",
    "r2 = r2_score(y_test, y_pred)\n",
    "\n",
    "# Print model performance\n",
    "print(\"Model Performance:\")\n",
    "print(f\"Mean Squared Error: {mse}\")\n",
    "print(f\"R-squared: {r2}\")\n",
    "\n",
    "# Display the learned coefficients\n",
    "print(\"\\nModel Coefficients:\")\n",
    "for feature, coef in zip(['FactorySize', 'Machines', 'Hours'], model.coef_):\n",
    "    print(f\"{feature}: {coef}\")\n",
    "print(f\"Intercept: {model.intercept_}\")\n",
    "\n",
    "# Predict energy usage for new factory data\n",
    "new_factory_data = [[1200, 55, 9]]  # Example: FactorySize=1200, Machines=55, Hours=9\n",
    "predicted_energy = model.predict(new_factory_data)\n",
    "print(\"\\nPredicted Energy Usage for New Factory Data:\")\n",
    "print(predicted_energy)\n"
   ]
  },
  {
   "cell_type": "code",
   "execution_count": null,
   "id": "0aa3cb54",
   "metadata": {},
   "outputs": [],
   "source": []
  }
 ],
 "metadata": {
  "kernelspec": {
   "display_name": "Python 3 (ipykernel)",
   "language": "python",
   "name": "python3"
  },
  "language_info": {
   "codemirror_mode": {
    "name": "ipython",
    "version": 3
   },
   "file_extension": ".py",
   "mimetype": "text/x-python",
   "name": "python",
   "nbconvert_exporter": "python",
   "pygments_lexer": "ipython3",
   "version": "3.9.12"
  }
 },
 "nbformat": 4,
 "nbformat_minor": 5
}
